{
 "cells": [
  {
   "cell_type": "markdown",
   "metadata": {},
   "source": [
    "# My school furniture"
   ]
  },
  {
   "cell_type": "code",
   "execution_count": 138,
   "metadata": {
    "collapsed": false
   },
   "outputs": [],
   "source": [
    "from pyplasm import *\n",
    "from fpformat import fix"
   ]
  },
  {
   "cell_type": "markdown",
   "metadata": {},
   "source": [
    "## Color normalize"
   ]
  },
  {
   "cell_type": "code",
   "execution_count": 139,
   "metadata": {
    "collapsed": true
   },
   "outputs": [],
   "source": [
    "def color(r,g,b):\n",
    "    return [float(fix(r/255.,6)),float(fix(g/255.,6)),float(fix(b/255.,6)),1.000000]"
   ]
  },
  {
   "cell_type": "markdown",
   "metadata": {},
   "source": [
    "## School desk"
   ]
  },
  {
   "cell_type": "markdown",
   "metadata": {},
   "source": [
    "<img src=\"schoolDesk.jpg\">"
   ]
  },
  {
   "cell_type": "code",
   "execution_count": 234,
   "metadata": {
    "collapsed": false
   },
   "outputs": [],
   "source": [
    "def schoolDesk(dx,dy,dz):\n",
    "    metal = color(210,210,210)\n",
    "    brown = color(245, 222, 179)\n",
    "    green = color(119,221,119)\n",
    "    \n",
    "    planX = dx\n",
    "    planY = dy\n",
    "    planZ = 0.05\n",
    "    \n",
    "    legX = .025\n",
    "    legY = .025\n",
    "    legZ = dz-planZ\n",
    "    \n",
    "    leg = CUBOID([legX,legY,legZ])\n",
    "    legs = STRUCT([leg,T(1)(dx-legX),leg,T(2)(dy-legY),leg,T(1)(legX-dx),leg])\n",
    "    beam = CUBOID([dx-2*legX,legX,legX])\n",
    "    legs = STRUCT([legs,T([1,3])([legX,dz-planZ*2]),beam,T(3)(-dz/6*4.5),beam])\n",
    "    legs = COLOR(metal)(legs)\n",
    "    planVerts = [[0,dy,0],[0,dy,.05],[0,0,0],[0,0,.05],[dx,0,0],[dx,0,.05],[dx,dy,0],[dx,dy,.05]]\n",
    "    underdeskVerts = [[legX+.01,dy,0],[legX+.01,dy,.05],[legX+.01,0,0],[legX+.01,0,.05],[dx-legX-.01,0,0],[dx-legX-.01,0,.05],[dx-legX-.01,dy,0],[dx-legX-.01,dy,.05]]\n",
    "    underdeskCells = [[1,2,3,4],[3,4,5,6],[5,6,7,8],[1,3,5,7]]\n",
    "    planCells = range(1,9)\n",
    "    BorderPlanCells = [[1,2,3,4],[3,4,5,6],[5,6,7,8],[1,2,7,8]]\n",
    "    BasePlanCells = [[1,3,5,7],[2,4,6,8]]\n",
    "    underdesk = MKPOL([underdeskVerts,underdeskCells,None])\n",
    "    underdesk = COLOR(metal)(underdesk)\n",
    "    BorderPlan = MKPOL([planVerts, BorderPlanCells,None])\n",
    "    BasePlan = MKPOL([planVerts,BasePlanCells,None])\n",
    "    BorderPlan = COLOR(brown)(BorderPlan)\n",
    "    BasePlan = COLOR(green)(BasePlan)\n",
    "    plan = STRUCT([BasePlan,BorderPlan])\n",
    "    schoolDesk = STRUCT([legs,T(3)(dz-planZ),plan,T(3)(-planZ*2.5),underdesk])\n",
    "    VIEW(schoolDesk)\n",
    "    "
   ]
  },
  {
   "cell_type": "code",
   "execution_count": 235,
   "metadata": {
    "collapsed": false
   },
   "outputs": [],
   "source": [
    "schoolDesk(1.0,0.5,0.75)"
   ]
  },
  {
   "cell_type": "markdown",
   "metadata": {},
   "source": [
    "## Result:"
   ]
  },
  {
   "cell_type": "markdown",
   "metadata": {},
   "source": [
    "<img src=\"schoolDesk1.png\">"
   ]
  },
  {
   "cell_type": "markdown",
   "metadata": {},
   "source": [
    "<img src=\"schoolDesk2.png\">"
   ]
  },
  {
   "cell_type": "markdown",
   "metadata": {},
   "source": [
    "## School chair"
   ]
  },
  {
   "cell_type": "markdown",
   "metadata": {},
   "source": [
    "<img src = \"schoolChair.jpg\">"
   ]
  },
  {
   "cell_type": "code",
   "execution_count": 327,
   "metadata": {
    "collapsed": false
   },
   "outputs": [],
   "source": [
    "def schoolChair(dx,dy,dz):\n",
    "    brown = color(150,75,0)\n",
    "    seat = CUBOID([dx,dy,.025])\n",
    "    legX = .025\n",
    "    legY = .025\n",
    "    backLeg = CUBOID([legX,legY,dz])\n",
    "    forwardLeg = CUBOID([legX,legY,dz/2])\n",
    "    legs = STRUCT([backLeg,T(1)(dx-legX),backLeg,T(2)(dy-legY),forwardLeg,T(1)(legX-dx),forwardLeg])\n",
    "    \n",
    "    beam = CUBOID([dx,legX,legY])    \n",
    "    skel = STRUCT([legs,T(3)(dz/2),beam,T(3)(dz/2),beam,T([2,3])([dy-legY,-dz/2]),beam])\n",
    "    beam = STRUCT([R([1,2])(PI/2),beam])\n",
    "    skel = STRUCT([skel,T([1,3])([legX,dz/2]),beam,T(1)(dx-legX),beam])\n",
    "    skel = COLOR(BLACK)(skel)\n",
    "    \n",
    "    seat = CUBOID([dx,dy-legY,legX])\n",
    "    seat = COLOR(brown)(seat)\n",
    "    back = CUBOID([dx,legY,dz/4])\n",
    "    back = COLOR(brown)(back)\n",
    "    \n",
    "    chair = STRUCT([skel,T([2,3])([legY,dz/2+legX]),seat,T(3)(dz/4),back])\n",
    "    VIEW(chair)"
   ]
  },
  {
   "cell_type": "code",
   "execution_count": 328,
   "metadata": {
    "collapsed": false
   },
   "outputs": [],
   "source": [
    "schoolChair(.5,.5,.8)"
   ]
  },
  {
   "cell_type": "markdown",
   "metadata": {},
   "source": [
    "## Result:"
   ]
  },
  {
   "cell_type": "markdown",
   "metadata": {},
   "source": [
    "<img src=\"schoolChair1.png\">"
   ]
  },
  {
   "cell_type": "markdown",
   "metadata": {},
   "source": [
    "<img src=\"schoolChair2.png\">"
   ]
  },
  {
   "cell_type": "markdown",
   "metadata": {},
   "source": [
    "## Blackboard"
   ]
  },
  {
   "cell_type": "markdown",
   "metadata": {},
   "source": [
    "<img src=\"blackboard.jpg\">"
   ]
  },
  {
   "cell_type": "code",
   "execution_count": 527,
   "metadata": {
    "collapsed": false
   },
   "outputs": [],
   "source": [
    "def blackboard(dx,dy,dz):\n",
    "    slate = color(112,128,144)\n",
    "    brown = color(245, 222, 179)\n",
    "    \n",
    "    baseX = .05\n",
    "    baseZ = .05\n",
    "    base = CUBOID([baseX,dy,baseZ])\n",
    "    legY = .05\n",
    "    legZ = dz/3*2\n",
    "    leg = CUBOID([baseX,legY,legZ])\n",
    "    hinge = CUBOID([baseX,legY,baseZ])\n",
    "    pedestalR = STRUCT([base,T([1,2])([baseX,dy/2]),leg,T([1,3])([baseX,legZ-baseZ]),hinge])\n",
    "    pedestalL = STRUCT([R([1,2])(PI),pedestalR])\n",
    "    pedestalL = STRUCT([base,T([1,2])([-baseX,dy/2]),leg,T([1,3])([-baseX,legZ-baseZ]),hinge])\n",
    "    beam = CUBOID([dx-baseX*3,legY,baseZ])\n",
    "    chalkX = .2\n",
    "    chalkY = .05\n",
    "    chalkZ = .03\n",
    "    chalkContainerVerts = [[chalkX,0,0],[chalkX,0,chalkZ],[0,0,0],[0,0,chalkZ],[0,chalkY,0],[0,chalkY,chalkZ],[chalkX,chalkY,0],[chalkX,chalkY,chalkZ]]\n",
    "    chalkContainerCells = [[1,2,3,4],[3,4,5,6],[5,6,7,8],[1,2,7,8],[1,3,5,7]]\n",
    "    chalkContainer = MKPOL([chalkContainerVerts,chalkContainerCells,None])\n",
    "    \n",
    "    pedestal = STRUCT([pedestalR,T(1)(dx),pedestalL])\n",
    "    pedestal = STRUCT([pedestal,T([1,2,3])([baseX*2,dy/2,legZ/2.5]),beam])\n",
    "    pedestal = STRUCT([pedestal,T([1,2,3])([dx/3*2,dy/2+baseX,legZ/2.5]),chalkContainer])\n",
    "\n",
    "    blackboardX = dx-baseX*7\n",
    "    blackboardY = .08\n",
    "    blackboardZ = 1.4\n",
    "    blackboard = CUBOID([blackboardX,blackboardY,blackboardZ])\n",
    "    border = SKEL_1(blackboard)\n",
    "    border = OFFSET([.06,.08,.06])(border)\n",
    "    border = COLOR(brown)(border)\n",
    "    blackboard = COLOR(slate)(blackboard)\n",
    "    blackboard = STRUCT([border,T([1,2,3])([baseX,.04,.04]),blackboard])\n",
    "    blackboard = STRUCT([pedestal,T([1,2,3])([baseX*3,dy/2-baseX,legZ/2]),blackboard])\n",
    "    VIEW(blackboard)"
   ]
  },
  {
   "cell_type": "code",
   "execution_count": null,
   "metadata": {
    "collapsed": false
   },
   "outputs": [],
   "source": [
    "blackboard(1.8,.6,2.4)"
   ]
  },
  {
   "cell_type": "code",
   "execution_count": null,
   "metadata": {
    "collapsed": true
   },
   "outputs": [],
   "source": []
  }
 ],
 "metadata": {
  "kernelspec": {
   "display_name": "Python 2",
   "language": "python",
   "name": "python2"
  },
  "language_info": {
   "codemirror_mode": {
    "name": "ipython",
    "version": 2
   },
   "file_extension": ".py",
   "mimetype": "text/x-python",
   "name": "python",
   "nbconvert_exporter": "python",
   "pygments_lexer": "ipython2",
   "version": "2.7.12"
  }
 },
 "nbformat": 4,
 "nbformat_minor": 1
}
