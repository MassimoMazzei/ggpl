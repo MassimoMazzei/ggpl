{
 "cells": [
  {
   "cell_type": "markdown",
   "metadata": {},
   "source": [
    "# My school furniture"
   ]
  },
  {
   "cell_type": "code",
   "execution_count": 138,
   "metadata": {
    "collapsed": false
   },
   "outputs": [],
   "source": [
    "from pyplasm import *\n",
    "from fpformat import fix"
   ]
  },
  {
   "cell_type": "markdown",
   "metadata": {},
   "source": [
    "## Color normalize"
   ]
  },
  {
   "cell_type": "code",
   "execution_count": 139,
   "metadata": {
    "collapsed": true
   },
   "outputs": [],
   "source": [
    "def color(r,g,b):\n",
    "    return [float(fix(r/255.,6)),float(fix(g/255.,6)),float(fix(b/255.,6)),1.000000]"
   ]
  },
  {
   "cell_type": "markdown",
   "metadata": {},
   "source": [
    "## School desk"
   ]
  },
  {
   "cell_type": "markdown",
   "metadata": {},
   "source": [
    "<img src=\"schoolDesk.jpg\">"
   ]
  },
  {
   "cell_type": "code",
   "execution_count": 220,
   "metadata": {
    "collapsed": false
   },
   "outputs": [],
   "source": [
    "def schoolDesk(dx,dy,dz):\n",
    "    metal = color(210,210,210)\n",
    "    brown = color(245, 222, 179)\n",
    "    green = color(119,221,119)\n",
    "    \n",
    "    planX = dx\n",
    "    planY = dy\n",
    "    planZ = 0.05\n",
    "    \n",
    "    legX = .025\n",
    "    legY = .025\n",
    "    legZ = dz-planZ\n",
    "    \n",
    "    leg = CUBOID([legX,legY,legZ])\n",
    "    legs = STRUCT([leg,T(1)(dx-legX),leg,T(2)(dy-legY),leg,T(1)(legX-dx),leg])\n",
    "    beam = CUBOID([dx-2*legX,legX,legX])\n",
    "    legs = STRUCT([legs,T([1,3])([legX,dz-planZ*2]),beam,T(3)(-dz/6*4.5),beam])\n",
    "    legs = COLOR(metal)(legs)\n",
    "    planVerts = [[0,dy,0],[0,dy,.05],[0,0,0],[0,0,.05],[dx,0,0],[dx,0,.05],[dx,dy,0],[dx,dy,.05]]\n",
    "    underdeskVerts = [[legX+.01,dy,0],[legX+.01,dy,.05],[legX+.01,0,0],[legX+.01,0,.05],[dx-legX-.01,0,0],[dx-legX-.01,0,.05],[dx-legX-.01,dy,0],[dx-legX-.01,dy,.05]]\n",
    "    underdeskCells = [[1,2,3,4],[3,4,5,6],[5,6,7,8],[1,3,5,7]]\n",
    "    planCells = range(1,9)\n",
    "    BorderPlanCells = [[1,2,3,4],[3,4,5,6],[5,6,7,8],[1,2,7,8]]\n",
    "    BasePlanCells = [[1,3,5,7],[2,4,6,8]]\n",
    "    underdesk = MKPOL([underdeskVerts,underdeskCells,None])\n",
    "    underdesk = COLOR(metal)(underdesk)\n",
    "    BorderPlan = MKPOL([planVerts, BorderPlanCells,None])\n",
    "    BasePlan = MKPOL([planVerts,BasePlanCells,None])\n",
    "    BorderPlan = COLOR(brown)(BorderPlan)\n",
    "    BasePlan = COLOR(green)(BasePlan)\n",
    "    plan = STRUCT([BasePlan,BorderPlan])\n",
    "    schoolDesk = STRUCT([legs,T(3)(dz-planZ),plan,T(3)(-planZ*2.5),underdesk])\n",
    "    VIEW(schoolDesk)\n",
    "    "
   ]
  },
  {
   "cell_type": "code",
   "execution_count": null,
   "metadata": {
    "collapsed": false
   },
   "outputs": [],
   "source": [
    "schoolDesk(1.0,0.5,0.75)"
   ]
  },
  {
   "cell_type": "markdown",
   "metadata": {},
   "source": [
    "## Result:"
   ]
  },
  {
   "cell_type": "markdown",
   "metadata": {},
   "source": [
    "<img src=\"schoolDesk.jpg\">"
   ]
  },
  {
   "cell_type": "code",
   "execution_count": null,
   "metadata": {
    "collapsed": true
   },
   "outputs": [],
   "source": []
  }
 ],
 "metadata": {
  "kernelspec": {
   "display_name": "Python 2",
   "language": "python",
   "name": "python2"
  },
  "language_info": {
   "codemirror_mode": {
    "name": "ipython",
    "version": 2
   },
   "file_extension": ".py",
   "mimetype": "text/x-python",
   "name": "python",
   "nbconvert_exporter": "python",
   "pygments_lexer": "ipython2",
   "version": "2.7.12"
  }
 },
 "nbformat": 4,
 "nbformat_minor": 1
}
