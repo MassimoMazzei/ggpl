{
 "cells": [
  {
   "cell_type": "code",
   "execution_count": 2,
   "metadata": {
    "collapsed": false
   },
   "outputs": [
    {
     "name": "stdout",
     "output_type": "stream",
     "text": [
      "Evaluating fenvs.py..\n",
      "...fenvs.py imported in 0.005326 seconds\n"
     ]
    },
    {
     "name": "stderr",
     "output_type": "stream",
     "text": [
      "/usr/local/lib/python2.7/dist-packages/larlib-0.3.2-py2.7.egg/larlib/larstruct.py:233: FutureWarning: comparison to `None` will result in an elementwise object comparison in the future.\n",
      "  self.body = [item for item in data if item != None]\n"
     ]
    }
   ],
   "source": [
    "from larlib import *\n"
   ]
  },
  {
   "cell_type": "code",
   "execution_count": 60,
   "metadata": {
    "collapsed": false
   },
   "outputs": [
    {
     "data": {
      "text/plain": [
       "<pyplasm.xgepy.Hpc; proxy of <Swig Object of type 'std::shared_ptr< Hpc > *' at 0x7f694aa0bf90> >"
      ]
     },
     "execution_count": 60,
     "metadata": {},
     "output_type": "execute_result"
    }
   ],
   "source": [
    "\n",
    "wallHeight = QUOTE([.25])\n",
    "doorHeight = QUOTE([.2])\n",
    "windowHeight = QUOTE([-.1,.1])\n",
    "external = lines2lines(\"external.lines\")\n",
    "plan = STRUCT(AA(POLYLINE)(external))\n",
    "\n",
    "#Floor\n",
    "floor = SOLIDIFY(plan)\n",
    "floor = PROD([floor,QUOTE([.001])])\n",
    "\n",
    "#External\n",
    "plan = OFFSET([.02,.02])(plan)\n",
    "\n",
    "plan3d = PROD([plan,wallHeight])\n",
    "\n",
    "#Internal\n",
    "internal = lines2lines(\"internal.lines\")\n",
    "inte = STRUCT(AA(POLYLINE)(internal))\n",
    "inte = OFFSET([.005,.005])(inte)\n",
    "inte3d = PROD([inte,wallHeight])\n",
    "plan3d = STRUCT([plan3d, inte3d])\n",
    "\n",
    "#Doors\n",
    "doors = lines2lines(\"doors.lines\")\n",
    "V,EV = lines2lar(doors)\n",
    "doors = STRUCT(MKPOLS((V,EV)))\n",
    "doors = SOLIDIFY(doors)\n",
    "door3d = PROD([doors,doorHeight])\n",
    "plan3d = DIFFERENCE([plan3d,door3d])\n",
    "\n",
    "#Windows\n",
    "windows = lines2lines(\"windows.lines\")\n",
    "V,EV = lines2lar(windows)\n",
    "windows = STRUCT(MKPOLS((V,EV)))\n",
    "windows = SOLIDIFY(windows)\n",
    "windows3d = PROD([windows,windowHeight])\n",
    "windows3d = COLOR(RED)(windows3d)\n",
    "VIEW(windows3d)\n",
    "windows3d = STRUCT([T([1,2])([.08,-.02]),windows3d])\n",
    "plan3d = DIFFERENCE([plan3d,windows3d])\n",
    "\n",
    "plan3d = STRUCT([floor,plan3d])\n",
    "#plan3d = STRUCT([S([1,2,3])([2,2,2]),plan3d])\n",
    "\n",
    "\n",
    "VIEW(plan3d)\n"
   ]
  },
  {
   "cell_type": "code",
   "execution_count": null,
   "metadata": {
    "collapsed": true
   },
   "outputs": [],
   "source": []
  },
  {
   "cell_type": "code",
   "execution_count": null,
   "metadata": {
    "collapsed": true
   },
   "outputs": [],
   "source": []
  }
 ],
 "metadata": {
  "kernelspec": {
   "display_name": "Python 2",
   "language": "python",
   "name": "python2"
  },
  "language_info": {
   "codemirror_mode": {
    "name": "ipython",
    "version": 2
   },
   "file_extension": ".py",
   "mimetype": "text/x-python",
   "name": "python",
   "nbconvert_exporter": "python",
   "pygments_lexer": "ipython2",
   "version": "2.7.12"
  }
 },
 "nbformat": 4,
 "nbformat_minor": 1
}
