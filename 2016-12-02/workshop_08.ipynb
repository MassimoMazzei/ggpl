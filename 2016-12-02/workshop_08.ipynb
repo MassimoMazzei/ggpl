{
 "cells": [
  {
   "cell_type": "code",
   "execution_count": 1,
   "metadata": {
    "collapsed": false
   },
   "outputs": [
    {
     "name": "stdout",
     "output_type": "stream",
     "text": [
      "Evaluating fenvs.py..\n",
      "...fenvs.py imported in 0.014528 seconds\n"
     ]
    },
    {
     "name": "stderr",
     "output_type": "stream",
     "text": [
      "/usr/local/lib/python2.7/dist-packages/larlib-0.3.2-py2.7.egg/larlib/larstruct.py:233: FutureWarning: comparison to `None` will result in an elementwise object comparison in the future.\n",
      "  self.body = [item for item in data if item != None]\n"
     ]
    }
   ],
   "source": [
    "from larlib import *\n"
   ]
  },
  {
   "cell_type": "code",
   "execution_count": 20,
   "metadata": {
    "collapsed": false
   },
   "outputs": [
    {
     "name": "stdout",
     "output_type": "stream",
     "text": [
      "[[0.6367, 0.7154], [0.6367, 0.6656], [0.7299, 0.9534], [0.7299, 1.0], [0.5595, 0.881], [0.5595, 0.9373], [0.5932, 0.7154], [0.7974, 0.8457], [0.7444, 0.8457], [0.7347, 0.8457], [0.5965, 0.799], [0.5965, 0.8585], [0.1736, 0.5129], [0.4164, 0.5129], [0.7942, 0.5466], [0.7508, 0.5466], [0.4164, 0.4389], [0.1736, 0.4389], [0.6897, 0.8569], [0.7347, 0.8569], [0.7444, 0.8569], [0.1431, 0.7154], [0.09, 0.7154], [0.6527, 0.799], [0.1608, 0.8441], [0.1608, 0.8087], [0.5691, 0.8569], [0.5691, 0.7926], [0.9357, 0.5466], [0.9357, 0.6045], [0.5209, 0.7926], [0.7958, 1.0], [0.5209, 0.8569], [0.5932, 0.6656], [0.7958, 0.9534], [0.6013, 0.9373], [0.7942, 0.6141], [0.09, 0.8087], [0.09, 0.8441], [1.0, 0.6045], [1.0, 0.5466], [0.6897, 0.7878], [0.0482, 0.8151], [0.0482, 0.7669], [0.7347, 0.8875], [0.7974, 0.8875], [0.6013, 0.881], [0.7508, 0.6141], [0.0, 0.7669], [0.09, 0.7685], [0.1431, 0.7685], [0.7444, 0.7878], [0.0, 0.8151], [0.6527, 0.8585]]\n"
     ]
    }
   ],
   "source": [
    "external = lines2lines(\"external.lines\")\n",
    "plan = STRUCT(AA(POLYLINE)(external))\n",
    "#VIEW(upLevel)\n",
    "plan = OFFSET([.05,.05])(plan)\n",
    "VIEW(plan)\n",
    "heigth = QUOTE([.25])\n",
    "plan3d = PROD([plan,heigth])\n",
    "\n",
    "internal = lines2lines(\"internal.lines\")\n",
    "inte = STRUCT(AA(POLYLINE)(internal))\n",
    "inte = OFFSET([.005,.005])(inte)\n",
    "inte3d = PROD([inte,heigth])\n",
    "plan3d = STRUCT([plan3d, inte3d])\n",
    "\n",
    "doors = lines2lines(\"doors.lines\")\n",
    "lines = lines2lines(\"doors.lines\")\n",
    "\n",
    "V,EV = lines2lar(lines)\n",
    "print(V)\n",
    "a = STRUCT(MKPOLS((V,EV)))\n",
    "a = OFFSET([1,1])(a)\n",
    "door = STRUCT(AA(POLYLINE)(doors))\n",
    "\n",
    "door = OFFSET([.05,.05])(door)\n",
    "door3d = PROD([door,heigth])\n",
    "#plan3d = DIFFERENCE([plan3d,door3d])\n",
    "\n",
    "VIEW(plan3d)\n",
    "V,EV = lines2lar(external)\n",
    "VV = AA(LIST)(range(len(V)))\n",
    "submodel = STRUCT(MKPOLS((V,EV)))\n"
   ]
  },
  {
   "cell_type": "code",
   "execution_count": null,
   "metadata": {
    "collapsed": true
   },
   "outputs": [],
   "source": []
  }
 ],
 "metadata": {
  "kernelspec": {
   "display_name": "Python 2",
   "language": "python",
   "name": "python2"
  },
  "language_info": {
   "codemirror_mode": {
    "name": "ipython",
    "version": 2
   },
   "file_extension": ".py",
   "mimetype": "text/x-python",
   "name": "python",
   "nbconvert_exporter": "python",
   "pygments_lexer": "ipython2",
   "version": "2.7.12"
  }
 },
 "nbformat": 4,
 "nbformat_minor": 1
}
