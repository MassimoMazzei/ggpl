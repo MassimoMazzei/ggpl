{
 "cells": [
  {
   "cell_type": "markdown",
   "metadata": {},
   "source": [
    "# House Modeling"
   ]
  },
  {
   "cell_type": "markdown",
   "metadata": {},
   "source": [
    "## Architecturl plan:\n",
    "<img src=\"architecturalPlan.jpg\">"
   ]
  },
  {
   "cell_type": "code",
   "execution_count": 1,
   "metadata": {
    "collapsed": false
   },
   "outputs": [
    {
     "name": "stdout",
     "output_type": "stream",
     "text": [
      "Evaluating fenvs.py..\n",
      "...fenvs.py imported in 0.005294 seconds\n"
     ]
    },
    {
     "name": "stderr",
     "output_type": "stream",
     "text": [
      "/usr/local/lib/python2.7/dist-packages/larlib-0.3.2-py2.7.egg/larlib/larstruct.py:233: FutureWarning: comparison to `None` will result in an elementwise object comparison in the future.\n",
      "  self.body = [item for item in data if item != None]\n"
     ]
    }
   ],
   "source": [
    "from larlib import *\n",
    "from pyplasm import *\n"
   ]
  },
  {
   "cell_type": "markdown",
   "metadata": {},
   "source": [
    "### Variables:\n",
    "- wallHeight: height of internal and external walls\n",
    "- doorHeight: height of the doors\n",
    "- windowHeight: height of the windows\n",
    "- external: hpc of external walls\n",
    "- floor: hpc of the floor\n",
    "- doors: hpc of the doors\n",
    "- windows: hpc of the windows\n",
    "- plan3d: hpc of the whole structure"
   ]
  },
  {
   "cell_type": "code",
   "execution_count": 2,
   "metadata": {
    "collapsed": false
   },
   "outputs": [],
   "source": [
    "def houseModeling():\n",
    "    wallHeight = QUOTE([.25])\n",
    "    doorHeight = QUOTE([.2])\n",
    "    windowHeight = QUOTE([-.1,.1])\n",
    "    external = lines2lines(\"external.lines\")\n",
    "    external = STRUCT(AA(POLYLINE)(external))\n",
    "\n",
    "    #Floor\n",
    "    floor = SOLIDIFY(external)\n",
    "    floor = PROD([floor,QUOTE([.001])])\n",
    "    floor = TEXTURE(\"floor.jpg\")(floor)\n",
    "\n",
    "    #External\n",
    "    external = OFFSET([.02,.02])(external)\n",
    "    external = PROD([external,wallHeight])\n",
    "    plan3d = external\n",
    "    \n",
    "\n",
    "    #Internal\n",
    "    internal = lines2lines(\"internal.lines\")\n",
    "    inte = STRUCT(AA(POLYLINE)(internal))\n",
    "    inte = OFFSET([.005,.005])(inte)\n",
    "    inte3d = PROD([inte,wallHeight])\n",
    "    plan3d = STRUCT([plan3d, inte3d])\n",
    "\n",
    "    #Doors\n",
    "    doors = lines2lines(\"doors.lines\")\n",
    "    V,EV = lines2lar(doors)\n",
    "    doors = STRUCT(MKPOLS((V,EV)))\n",
    "    doors = SOLIDIFY(doors)\n",
    "    door3d = PROD([doors,doorHeight])\n",
    "    plan3d = DIFFERENCE([plan3d,door3d])\n",
    "    inte3d = DIFFERENCE([inte3d,door3d])\n",
    "\n",
    "\n",
    "    #Windows\n",
    "    windows = lines2lines(\"windows.lines\")\n",
    "    V,EV = lines2lar(windows)\n",
    "    windows = STRUCT(MKPOLS((V,EV)))\n",
    "    windows = SOLIDIFY(windows)\n",
    "    windows3d = PROD([windows,windowHeight])\n",
    "    windows3d = STRUCT([T([1,2])([.08,-.02]),windows3d])\n",
    "    plan3d = DIFFERENCE([plan3d,windows3d])\n",
    "    plan3d = COLOR(RED)(plan3d)\n",
    "    plan3d = DIFFERENCE([plan3d,inte3d])\n",
    "\n",
    "\n",
    "    #Apply textures and assemble hpcs\n",
    "    plan3d = STRUCT([S([1,2,3])([1,1,4]),plan3d])\n",
    "    plan3d = TEXTURE([\"wall.png\",True,True, 0.0,0.0,  0.0,   5.0,1.0,  0.0,0.0])(plan3d)\n",
    "    plan3d = STRUCT([S([1,2,3])([1,1,.25]),plan3d])\n",
    "\n",
    "    inte3d = STRUCT([S([1,2,3])([1,1,4]),inte3d])\n",
    "    inte3d = TEXTURE([\"internal.jpg\",True,True, 0.0,0.0,  0.0,   5.0,1.0,  0.0,0.0])(inte3d)\n",
    "    inte3d = STRUCT([S([1,2,3])([1,1,.25]),inte3d])\n",
    "\n",
    "    plan3d = STRUCT([plan3d,inte3d])\n",
    "    plan3d = STRUCT([floor,plan3d])\n",
    "\n",
    "    #View the structure\n",
    "    VIEW(plan3d)\n",
    "\n",
    "houseModeling()"
   ]
  },
  {
   "cell_type": "markdown",
   "metadata": {
    "collapsed": true
   },
   "source": [
    "## Results:\n",
    "<img src=\"houseResult1.png\">\n",
    "<img src=\"houseResult2.png\">"
   ]
  },
  {
   "cell_type": "code",
   "execution_count": null,
   "metadata": {
    "collapsed": true
   },
   "outputs": [],
   "source": []
  }
 ],
 "metadata": {
  "kernelspec": {
   "display_name": "Python 2",
   "language": "python",
   "name": "python2"
  },
  "language_info": {
   "codemirror_mode": {
    "name": "ipython",
    "version": 2
   },
   "file_extension": ".py",
   "mimetype": "text/x-python",
   "name": "python",
   "nbconvert_exporter": "python",
   "pygments_lexer": "ipython2",
   "version": "2.7.12"
  }
 },
 "nbformat": 4,
 "nbformat_minor": 1
}
