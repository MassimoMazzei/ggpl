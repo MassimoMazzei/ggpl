{
 "cells": [
  {
   "cell_type": "markdown",
   "metadata": {},
   "source": [
    "# Design of windows and doors"
   ]
  },
  {
   "cell_type": "markdown",
   "metadata": {},
   "source": [
    "## Wooden window"
   ]
  },
  {
   "cell_type": "markdown",
   "metadata": {},
   "source": [
    "<img src=\"window.jpeg\">"
   ]
  },
  {
   "cell_type": "code",
   "execution_count": 164,
   "metadata": {
    "collapsed": false
   },
   "outputs": [],
   "source": [
    "from pyplasm import *\n",
    "from fpformat import fix"
   ]
  },
  {
   "cell_type": "code",
   "execution_count": 165,
   "metadata": {
    "collapsed": true
   },
   "outputs": [],
   "source": [
    "#Funzione per generare colori dati 3 valori per la codifica RGB\n",
    "def color(r,g,b):\n",
    "    return [float(fix(r/255.,6)),float(fix(g/255.,6)),float(fix(b/255.,6)),1.000000]"
   ]
  },
  {
   "cell_type": "code",
   "execution_count": 166,
   "metadata": {
    "collapsed": false
   },
   "outputs": [],
   "source": [
    "\"\"\" This function create and return a window by the given parameters \"\"\"\n",
    "def window(X,Y,Z,occupancy):\n",
    "    woodStructure = PROD([QUOTE([0]),QUOTE([0])])\n",
    "    glassStructure = PROD([QUOTE([0]),QUOTE([0])])\n",
    "    \n",
    "    for zIndex in range(0,len(Z)):\n",
    "        \n",
    "        for xIndex in range(0,len(X)):\n",
    "            \n",
    "            if occupancy[zIndex][xIndex] == 0:\n",
    "                if X[xIndex] > 0:\n",
    "                    X[xIndex] = X[xIndex]*-1\n",
    "                    \n",
    "            elif occupancy[zIndex][xIndex] == 1:\n",
    "                    if X[xIndex] < 0:\n",
    "                        X[xIndex] = X[xIndex]*-1\n",
    "        \n",
    "        #Creo le strutture\n",
    "        x = QUOTE(X)\n",
    "        z = QUOTE([Z[zIndex]])\n",
    "        \n",
    "        #Creo un livello della struttura in legno\n",
    "        wood = PROD([x,z])\n",
    "        \n",
    "        #Creo un livello della struttura in vetro\n",
    "        j=0\n",
    "        for ind in range(0,zIndex):\n",
    "            j = j+Z[ind]\n",
    "        woodStructure = STRUCT([woodStructure,T(2)(j),wood])\n",
    "        \n",
    "        pos = 0\n",
    "        for i in range(0,len(X)):\n",
    "            X[i] = X[i]*-1\n",
    "            if X[i]>0:\n",
    "                pos = pos+1\n",
    "                \n",
    "        if pos>0:\n",
    "            xGlass = QUOTE(X)\n",
    "            glass = PROD([xGlass,z])\n",
    "            glassStructure = STRUCT([glassStructure,T(2)(j),glass])\n",
    "            \n",
    "    #Dà spessore al legno\n",
    "    woodStructure = PROD([woodStructure,QUOTE([Y[0]])])\n",
    "    \n",
    "    #Dà spessore al vetro\n",
    "    glassStructure = PROD([glassStructure,QUOTE([Y[1]])])\n",
    "    \n",
    "    #Trasla e ruota le strutture sul giusto piano\n",
    "    woodStructure = STRUCT([R([2,3])(PI/2),woodStructure])\n",
    "    glassStructure = STRUCT([T(2)(-Y[0]/2),R([2,3])(PI/2),glassStructure])\n",
    "    \n",
    "    #Colora gli elementi\n",
    "    glassColor = color(171,205,239)\n",
    "    woodColor = color(120,66,0)\n",
    "    glassStructure = COLOR(glassColor)(glassStructure)\n",
    "    woodStructure = COLOR(woodColor)(woodStructure)\n",
    "    \n",
    "    #Metto insieme gli elementi\n",
    "    s = STRUCT([woodStructure,glassStructure])\n",
    "    \n",
    "    def window(dx,dy,dz):\n",
    "        scaledStructure = STRUCT([S([1,2,3])([dx,dy,dz]),s])\n",
    "        return scaledStructure\n",
    "    \n",
    "    #Ritorno l'output\n",
    "    return window"
   ]
  },
  {
   "cell_type": "code",
   "execution_count": 167,
   "metadata": {
    "collapsed": false
   },
   "outputs": [
    {
     "data": {
      "text/plain": [
       "<pyplasm.xgepy.Hpc; proxy of <Swig Object of type 'std::shared_ptr< Hpc > *' at 0x7f9a18173090> >"
      ]
     },
     "execution_count": 167,
     "metadata": {},
     "output_type": "execute_result"
    }
   ],
   "source": [
    "#Parametri per la funzione window espressi in metri\n",
    "X = [.1,.4,.15,.4,.1]\n",
    "Y = [.05,.001]\n",
    "Z = [.1,.4,.05,.4,.05,.4,.1]\n",
    "dx = 3\n",
    "dy = 3\n",
    "dz = 3\n",
    "occupancy = [[1,1,1,1,1],[1,0,1,0,1],[1,1,1,1,1],[1,0,1,0,1],[1,1,1,1,1],[1,0,1,0,1],[1,1,1,1,1]]\n",
    "\n",
    "#Visualizzo la finestra\n",
    "VIEW(window(X,Y,Z,occupancy)(dx,dy,dz))"
   ]
  },
  {
   "cell_type": "markdown",
   "metadata": {
    "collapsed": true
   },
   "source": [
    "## Result\n",
    "<img src=\"windowResult1.png\">\n",
    "<img src=\"windowResult2.png\">"
   ]
  },
  {
   "cell_type": "markdown",
   "metadata": {
    "collapsed": true
   },
   "source": [
    "## Wooden and glass door"
   ]
  },
  {
   "cell_type": "markdown",
   "metadata": {
    "collapsed": true
   },
   "source": [
    "<img src=\"door.jpg\">"
   ]
  },
  {
   "cell_type": "code",
   "execution_count": 168,
   "metadata": {
    "collapsed": true
   },
   "outputs": [],
   "source": [
    "\"\"\" This function create and return a door by the given parameters \"\"\"\n",
    "def door(X,Y,Z,occupancy):\n",
    "    woodStructure = PROD([QUOTE([0]),QUOTE([0])])\n",
    "    glassStructure = PROD([QUOTE([0]),QUOTE([0])])\n",
    "    \n",
    "    for zIndex in range(0,len(Z)):\n",
    "        \n",
    "        for xIndex in range(0,len(X)):\n",
    "            \n",
    "            if occupancy[zIndex][xIndex] == 0:\n",
    "                if X[xIndex] > 0:\n",
    "                    X[xIndex] = X[xIndex]*-1\n",
    "                    \n",
    "            elif occupancy[zIndex][xIndex] == 1:\n",
    "                    if X[xIndex] < 0:\n",
    "                        X[xIndex] = X[xIndex]*-1\n",
    "        \n",
    "        #Creo le strutture\n",
    "        x = QUOTE(X)\n",
    "        z = QUOTE([Z[zIndex]])\n",
    "        \n",
    "        #Creo un livello della struttura in legno\n",
    "        wood = PROD([x,z])\n",
    "        \n",
    "        #Creo un livello della struttura in vetro\n",
    "        j=0\n",
    "        for ind in range(0,zIndex):\n",
    "            j = j+Z[ind]\n",
    "        woodStructure = STRUCT([woodStructure,T(2)(j),wood])\n",
    "        \n",
    "        pos = 0\n",
    "        for i in range(0,len(X)):\n",
    "            X[i] = X[i]*-1\n",
    "            if X[i]>0:\n",
    "                pos = pos+1\n",
    "                \n",
    "        if pos>0:\n",
    "            xGlass = QUOTE(X)\n",
    "            glass = PROD([xGlass,z])\n",
    "            glassStructure = STRUCT([glassStructure,T(2)(j),glass])\n",
    "            \n",
    "    #Dà spessore al legno\n",
    "    woodStructure = PROD([woodStructure,QUOTE([Y[0]])])\n",
    "    \n",
    "    #Dà spessore al vetro\n",
    "    glassStructure = PROD([glassStructure,QUOTE([Y[1]])])\n",
    "    \n",
    "    #Trasla e ruota le strutture sul giusto piano\n",
    "    woodStructure = STRUCT([R([2,3])(PI/2),woodStructure])\n",
    "    glassStructure = STRUCT([T(2)(-Y[0]/2),R([2,3])(PI/2),glassStructure])\n",
    "    \n",
    "    #Colora gli elementi\n",
    "    glassColor = color(171,205,239)\n",
    "    woodColor = color(120,66,0)\n",
    "    glassStructure = COLOR(glassColor)(glassStructure)\n",
    "    woodStructure = COLOR(woodColor)(woodStructure)\n",
    "    \n",
    "    #Metto insieme gli elementi\n",
    "    s = STRUCT([woodStructure,glassStructure])\n",
    "    \n",
    "    def door(dx,dy,dz):\n",
    "        scaledStructure = STRUCT([S([1,2,3])([dx,dy,dz]),s])\n",
    "        return scaledStructure\n",
    "    \n",
    "    #Ritorno l'output\n",
    "    return door"
   ]
  },
  {
   "cell_type": "code",
   "execution_count": 169,
   "metadata": {
    "collapsed": false
   },
   "outputs": [
    {
     "data": {
      "text/plain": [
       "<pyplasm.xgepy.Hpc; proxy of <Swig Object of type 'std::shared_ptr< Hpc > *' at 0x7f9a18199e40> >"
      ]
     },
     "execution_count": 169,
     "metadata": {},
     "output_type": "execute_result"
    }
   ],
   "source": [
    "#Parametri per la funzione door espressi in metri\n",
    "X = [.2,.35,.3,.35,.05,.35,.40,.35,.05,.35,.3,.35,.2]\n",
    "Y = [.05,.001]\n",
    "Z = [.45,.4,.05,.4,.05,.4,.05,.4,.05,.4,.3]\n",
    "dx = 3\n",
    "dy = 5\n",
    "dz = 3\n",
    "occupancy = [[1,1,1,1,1,1,1,1,1,1,1,1,1],[1,0,1,0,1,0,1,0,1,0,1,0,1],[1,1,1,1,1,1,1,1,1,1,1,1,1],[1,0,1,0,1,0,1,0,1,0,1,0,1],[1,1,1,1,1,1,1,1,1,1,1,1,1],[1,0,1,0,1,0,1,0,1,0,1,0,1],[1,1,1,1,1,1,1,1,1,1,1,1,1],[1,0,1,0,1,0,1,0,1,0,1,0,1],[1,1,1,1,1,1,1,1,1,1,1,1,1],[1,0,1,0,1,0,1,0,1,0,1,0,1],[1,1,1,1,1,1,1,1,1,1,1,1,1]]\n",
    "\n",
    "#Visualizzo la porta\n",
    "VIEW(door(X,Y,Z,occupancy)(dx,dy,dz))"
   ]
  },
  {
   "cell_type": "markdown",
   "metadata": {},
   "source": [
    "## Result\n",
    "<img src=\"doorResult1.png\">\n",
    "<img src=\"doorResult2.png\">"
   ]
  },
  {
   "cell_type": "markdown",
   "metadata": {},
   "source": [
    "### Utilizzo altri parametri"
   ]
  },
  {
   "cell_type": "code",
   "execution_count": 170,
   "metadata": {
    "collapsed": false
   },
   "outputs": [
    {
     "data": {
      "text/plain": [
       "<pyplasm.xgepy.Hpc; proxy of <Swig Object of type 'std::shared_ptr< Hpc > *' at 0x7f9a181738a0> >"
      ]
     },
     "execution_count": 170,
     "metadata": {},
     "output_type": "execute_result"
    }
   ],
   "source": [
    "#Cambio parametri in modo da farla più stretta e più alta rispetto alla precedente\n",
    "X = [.15,.35,.05,.35,.40,.35,.05,.35,.15]\n",
    "Y = [.05,.001]\n",
    "Z = [.45,.4,.05,.4,.05,.4,.05,.4,.05,.4,.3]\n",
    "dx = 2.5\n",
    "dy = 2\n",
    "dz = 4\n",
    "occupancy = [[1,1,1,1,1,1,1,1,1,1,1,1,1],[1,0,1,0,1,0,1,0,1,0,1,0,1],[1,1,1,1,1,1,1,1,1,1,1,1,1],[1,0,1,0,1,0,1,0,1,0,1,0,1],[1,1,1,1,1,1,1,1,1,1,1,1,1],[1,0,1,0,1,0,1,0,1,0,1,0,1],[1,1,1,1,1,1,1,1,1,1,1,1,1],[1,0,1,0,1,0,1,0,1,0,1,0,1],[1,1,1,1,1,1,1,1,1,1,1,1,1],[1,0,1,0,1,0,1,0,1,0,1,0,1],[1,1,1,1,1,1,1,1,1,1,1,1,1]]\n",
    "\n",
    "#Visualizzo la porta\n",
    "VIEW(door(X,Y,Z,occupancy)(dx,dy,dz))"
   ]
  },
  {
   "cell_type": "markdown",
   "metadata": {},
   "source": [
    "## Result\n",
    "<img src=\"door2result1.png\">\n",
    "<img src=\"door2result2.png\">"
   ]
  },
  {
   "cell_type": "code",
   "execution_count": null,
   "metadata": {
    "collapsed": true
   },
   "outputs": [],
   "source": []
  }
 ],
 "metadata": {
  "kernelspec": {
   "display_name": "Python 2",
   "language": "python",
   "name": "python2"
  },
  "language_info": {
   "codemirror_mode": {
    "name": "ipython",
    "version": 2
   },
   "file_extension": ".py",
   "mimetype": "text/x-python",
   "name": "python",
   "nbconvert_exporter": "python",
   "pygments_lexer": "ipython2",
   "version": "2.7.12"
  }
 },
 "nbformat": 4,
 "nbformat_minor": 1
}
