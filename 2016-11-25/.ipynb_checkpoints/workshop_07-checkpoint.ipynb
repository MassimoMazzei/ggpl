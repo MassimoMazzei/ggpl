{
 "cells": [
  {
   "cell_type": "markdown",
   "metadata": {},
   "source": [
    "# Design of windows and doors"
   ]
  },
  {
   "cell_type": "code",
   "execution_count": 123,
   "metadata": {
    "collapsed": false
   },
   "outputs": [],
   "source": [
    "from pyplasm import *\n",
    "from fpformat import fix"
   ]
  },
  {
   "cell_type": "code",
   "execution_count": 124,
   "metadata": {
    "collapsed": true
   },
   "outputs": [],
   "source": [
    "def color(r,g,b):\n",
    "    return [float(fix(r/255.,6)),float(fix(g/255.,6)),float(fix(b/255.,6)),1.000000]"
   ]
  },
  {
   "cell_type": "code",
   "execution_count": 125,
   "metadata": {
    "collapsed": false
   },
   "outputs": [],
   "source": [
    "def window(X,Y,Z,occupancy):\n",
    "    woodStructure = PROD([QUOTE([0]),QUOTE([0])])\n",
    "    glassStructure = PROD([QUOTE([0]),QUOTE([0])])\n",
    "    \n",
    "    for zIndex in range(0,len(Z)):\n",
    "        \n",
    "        for xIndex in range(0,len(X)):\n",
    "            \n",
    "            if occupancy[zIndex][xIndex] == 0:\n",
    "                if X[xIndex] > 0:\n",
    "                    X[xIndex] = X[xIndex]*-1\n",
    "                    \n",
    "            elif occupancy[zIndex][xIndex] == 1:\n",
    "                    if X[xIndex] < 0:\n",
    "                        X[xIndex] = X[xIndex]*-1\n",
    "        \n",
    "        #Creo le strutture\n",
    "        x = QUOTE(X)\n",
    "        z = QUOTE([Z[zIndex]])\n",
    "        \n",
    "        #Creo un livello della struttura in legno\n",
    "        wood = PROD([x,z])\n",
    "        \n",
    "        #Creo un livello della struttura in vetro\n",
    "        j=0\n",
    "        for ind in range(0,zIndex):\n",
    "            j = j+Z[ind]\n",
    "        woodStructure = STRUCT([woodStructure,T(2)(j),wood])\n",
    "        \n",
    "        pos = 0\n",
    "        for i in range(0,len(X)):\n",
    "            X[i] = X[i]*-1\n",
    "            if X[i]>0:\n",
    "                pos = pos+1\n",
    "                \n",
    "        if pos>0:\n",
    "            xGlass = QUOTE(X)\n",
    "            glass = PROD([xGlass,z])\n",
    "            glassStructure = STRUCT([glassStructure,T(2)(j),glass])\n",
    "            \n",
    "    #Dà spessore al legno\n",
    "    woodStructure = PROD([woodStructure,QUOTE([Y[0]])])\n",
    "    \n",
    "    #Dà spessore al vetro\n",
    "    glassStructure = PROD([glassStructure,QUOTE([Y[1]])])\n",
    "    \n",
    "    #Trasla e ruota le strutture sul giusto piano\n",
    "    woodStructure = STRUCT([R([2,3])(PI/2),woodStructure])\n",
    "    glassStructure = STRUCT([T(2)(-Y[0]/2),R([2,3])(PI/2),glassStructure])\n",
    "    \n",
    "    #Colora gli elementi\n",
    "    glassColor = color(171,205,239)\n",
    "    woodColor = color(120,66,0)\n",
    "    glassStructure = COLOR(glassColor)(glassStructure)\n",
    "    woodStructure = COLOR(woodColor)(woodStructure)\n",
    "    \n",
    "    #Metto insieme gli elementi\n",
    "    s = STRUCT([woodStructure,glassStructure])\n",
    "    \n",
    "    def window(dx,dy,dz):\n",
    "        scaledStructure = STRUCT([S([1,2,3])([dx,dy,dz]),s])\n",
    "        return scaledStructure\n",
    "    \n",
    "    #Ritorno l'output\n",
    "    return window"
   ]
  },
  {
   "cell_type": "code",
   "execution_count": 128,
   "metadata": {
    "collapsed": false
   },
   "outputs": [
    {
     "data": {
      "text/plain": [
       "<pyplasm.xgepy.Hpc; proxy of <Swig Object of type 'std::shared_ptr< Hpc > *' at 0x7f9a18168660> >"
      ]
     },
     "execution_count": 128,
     "metadata": {},
     "output_type": "execute_result"
    }
   ],
   "source": [
    "X = [.1,.4,.15,.4,.1]\n",
    "Y = [.05,.001]\n",
    "Z = [.1,1.,.1]\n",
    "Z2 = [.1,.4,.05,.4,.05,.4,.1]\n",
    "occupancy2 = [[1,1,1,1,1],[1,0,1,0,1],[1,1,1,1,1],[1,0,1,0,1],[1,1,1,1,1],[1,0,1,0,1],[1,1,1,1,1]]\n",
    "occupancy = [[1,1,1,1,1],[1,0,1,0,1],[1,1,1,1,1]]\n",
    "VIEW(window(X,Y,Z2,occupancy2)(3,3,3))"
   ]
  },
  {
   "cell_type": "code",
   "execution_count": null,
   "metadata": {
    "collapsed": true
   },
   "outputs": [],
   "source": [
    "\n",
    "\n"
   ]
  },
  {
   "cell_type": "code",
   "execution_count": null,
   "metadata": {
    "collapsed": true
   },
   "outputs": [],
   "source": []
  },
  {
   "cell_type": "code",
   "execution_count": null,
   "metadata": {
    "collapsed": true
   },
   "outputs": [],
   "source": []
  }
 ],
 "metadata": {
  "kernelspec": {
   "display_name": "Python 2",
   "language": "python",
   "name": "python2"
  },
  "language_info": {
   "codemirror_mode": {
    "name": "ipython",
    "version": 2
   },
   "file_extension": ".py",
   "mimetype": "text/x-python",
   "name": "python",
   "nbconvert_exporter": "python",
   "pygments_lexer": "ipython2",
   "version": "2.7.12"
  }
 },
 "nbformat": 4,
 "nbformat_minor": 1
}
