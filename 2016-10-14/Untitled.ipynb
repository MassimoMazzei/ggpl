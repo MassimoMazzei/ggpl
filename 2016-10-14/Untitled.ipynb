{
 "cells": [
  {
   "cell_type": "code",
   "execution_count": null,
   "metadata": {
    "collapsed": true
   },
   "outputs": [],
   "source": []
  },
  {
   "cell_type": "code",
   "execution_count": 5,
   "metadata": {
    "collapsed": false
   },
   "outputs": [
    {
     "data": {
      "text/plain": [
       "<pyplasm.xgepy.Hpc; proxy of <Swig Object of type 'std::shared_ptr< Hpc > *' at 0x7fd041cd7a50> >"
      ]
     },
     "execution_count": 5,
     "metadata": {},
     "output_type": "execute_result"
    }
   ],
   "source": [
    "from pyplasm import *\n",
    "\n",
    "def spaceFrame(bx, bz, px, py, pillarDistances, pillarHeights):\n",
    "\n",
    "\tdef createPillars(distance, height):\n",
    "\t\tpillar = CUBOID([px, py, height])\n",
    "\t\tpillar = STRUCT([T(3)(distance), pillar])\n",
    "\t\tpillars = STRUCT([pillar, T(2)(pillarDistances[0]), pillar])\n",
    "\t\tdist = pillarDistances[0]\n",
    "\t\tfor i in pillarDistances[1:]:\n",
    "\t\t\tpillars = STRUCT([pillars, T(2)(dist + i), pillar])\n",
    "\t\t\tdist = dist + i\n",
    "\t\treturn pillars\n",
    "\n",
    "\tdef createBeams(height):\n",
    "\t\tbeam = CUBOID([bx, pillarDistances[0], bz])\n",
    "\t\tbeams = STRUCT([T(3)(height), T(2)(px/2), beam])\n",
    "\t\tdist = pillarDistances[0]\n",
    "\t\tfor i in pillarDistances[1:]:\n",
    "\t\t\tbeam = CUBOID([bx, i, bz])\n",
    "\t\t\tbeams = STRUCT([beams, T(3)(height), T(2)(dist + px/2), C])\n",
    "\t\t\tdist = dist + i\n",
    "\t\treturn beams\n",
    "\n",
    "\tdef addFloor (structure, distance, pillarHeight):\n",
    "\t\treturn STRUCT([structure, createPillars(distance, pillarHeight), createBeams(distance + pillarHeight)])\n",
    "\n",
    "\tdef createGroundFloor():\n",
    "\t\treturn STRUCT([createPillars(0,pillarHeights[0]), createBeams(pillarHeights[0])])\n",
    "\n",
    "\tdef createStructure():\n",
    "\t\tstructure = createGroundFloor()\n",
    "\t\tdistance = pillarHeights[0]\n",
    "\t\tfor i in pillarHeights:\n",
    "\t\t\tstructure = addFloor(structure, distance, i)\n",
    "\t\t\tdistance = distance + i\n",
    "\t\treturn structure\n",
    "\n",
    "\treturn createStructure()\n",
    "\n",
    "\n",
    "\t\n",
    "\n",
    "\n",
    "bx = .4\n",
    "bz = .4\n",
    "px = .4\n",
    "py = .4\n",
    "pillarDistances = [4, 5, 4, 4.5, 5]\n",
    "pillarHeights = [3, 2, 3, 5]\n",
    "\n",
    "\n",
    "VIEW(spaceFrame(bx, bz, px, py, pillarDistances, pillarHeights))"
   ]
  },
  {
   "cell_type": "code",
   "execution_count": null,
   "metadata": {
    "collapsed": true
   },
   "outputs": [],
   "source": []
  }
 ],
 "metadata": {
  "kernelspec": {
   "display_name": "Python 2",
   "language": "python",
   "name": "python2"
  },
  "language_info": {
   "codemirror_mode": {
    "name": "ipython",
    "version": 2
   },
   "file_extension": ".py",
   "mimetype": "text/x-python",
   "name": "python",
   "nbconvert_exporter": "python",
   "pygments_lexer": "ipython2",
   "version": "2.7.12"
  }
 },
 "nbformat": 4,
 "nbformat_minor": 1
}
