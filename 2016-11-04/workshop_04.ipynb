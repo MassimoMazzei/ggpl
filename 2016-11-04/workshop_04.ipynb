{
 "cells": [
  {
   "cell_type": "markdown",
   "metadata": {},
   "source": [
    "# Roof Builder"
   ]
  },
  {
   "cell_type": "markdown",
   "metadata": {},
   "source": [
    "## Reference image:"
   ]
  },
  {
   "cell_type": "markdown",
   "metadata": {},
   "source": [
    "### Hip roof"
   ]
  },
  {
   "cell_type": "markdown",
   "metadata": {},
   "source": [
    "<img src=\"hip-roof.jpg\">"
   ]
  },
  {
   "cell_type": "markdown",
   "metadata": {},
   "source": [
    "This function create a hpc value with a hip-roof shape\n",
    "I use this value as input for the ggpl_roofBuilder() function"
   ]
  },
  {
   "cell_type": "code",
   "execution_count": null,
   "metadata": {
    "collapsed": true
   },
   "outputs": [],
   "source": [
    "\"\"\"Return a hpc value with a hip roof shape from a list of coordinates\"\"\"\n",
    "def hipRoof():\n",
    "\tvertices = [[0,0,0],[4,0,0],[2,1,2],[2,5,2],[0,6,0],[4,6,0]]\n",
    "\tcells = range(1,7)\n",
    "\tprint cells\n",
    "\tinput = MKPOL([vertices,[cells],None])\n",
    "\treturn input"
   ]
  },
  {
   "cell_type": "markdown",
   "metadata": {},
   "source": [
    "### Hipped l-shaped roof"
   ]
  },
  {
   "cell_type": "markdown",
   "metadata": {},
   "source": [
    "<img src=\"hippedL-shaped.png\">"
   ]
  },
  {
   "cell_type": "markdown",
   "metadata": {},
   "source": [
    "This function create a hpc value with a hipped l-shaped roof shape\n",
    "I use this value as input for the ggpl_roofBuilder() function"
   ]
  },
  {
   "cell_type": "code",
   "execution_count": null,
   "metadata": {
    "collapsed": true
   },
   "outputs": [],
   "source": [
    "def hippedLShaped():\n",
    "\tvertices1 = [[10,0,0],[9,2,2],[10,4,0],[0,0,0],[2,2,2],[4,4,0]]\n",
    "\tvertices2 = [[0,0,0],[2,2,2],[4,4,0],[0,7,0],[2,6,2],[4,7,0]]\n",
    "\tcells = range(1,10)\n",
    "\tinput1 = MKPOL([vertices1,[cells],None])\n",
    "\tinput2 = MKPOL([vertices2,[cells],None])\n",
    "\treturn STRUCT([input1,input2])"
   ]
  },
  {
   "cell_type": "markdown",
   "metadata": {},
   "source": [
    "## Roof builder function"
   ]
  },
  {
   "cell_type": "markdown",
   "metadata": {},
   "source": [
    "This function create a roof from a hpc value that contains a solid roof shape.\n",
    "I extract the 1-skeleton and the 2-skeleton: from the 1-skeleton i use the OFFSET() function to create a solid skeleton of the structure, from the 2-skeleton i use the UKPOL() function to extract the coordinates of the new points of the structure.\n",
    "In the for cycle I take the coordinates and I create the roof surfaces with the exception of the base (the surface with the z coordinate of all the points = 0) "
   ]
  },
  {
   "cell_type": "code",
   "execution_count": null,
   "metadata": {
    "collapsed": true
   },
   "outputs": [],
   "source": [
    "def ggpl_roofBuilder(roofShape):\n",
    "\t\n",
    "\tsk1 = SKEL_1(roofShape)\n",
    "\tsk2 = SKEL_2(roofShape)\n",
    "\n",
    "\tukpol = UKPOL(sk2)\n",
    "\toffset = OFFSET([.1,.1,.1])(sk1)\n",
    "\n",
    "\tvertices = ukpol[0]\n",
    "\n",
    "\tfor j in ukpol[1]:\n",
    "\t\tvertices = []\n",
    "\t\t\n",
    "\t\tfor i in j:\n",
    "\t\t\tvertices.extend([ukpol[0][i-1]])\n",
    "\t\t\t\n",
    "\t\t\n",
    "\t\tif len(j) == 3:\n",
    "\t\t\toffset = STRUCT([offset,OFFSET([.1,.1,.1])(MKPOL([vertices,[[1,2,3]],None]))])\n",
    "\n",
    "\t\telse:\n",
    "\t\t\tz = vertices[0][2]\n",
    "\t\t\tfor k in vertices:\n",
    "\t\t\t\tif z != k[2]:\n",
    "\t\t\t\t\toffset = STRUCT([offset,OFFSET([.1,.1,.1])(MKPOL([vertices,[[1,2,3,4]],None]))])\n",
    "\n",
    "\treturn offset"
   ]
  },
  {
   "cell_type": "markdown",
   "metadata": {},
   "source": [
    "## Result:"
   ]
  },
  {
   "cell_type": "markdown",
   "metadata": {},
   "source": [
    "### Hip roof"
   ]
  },
  {
   "cell_type": "markdown",
   "metadata": {},
   "source": [
    "<img src=\"hipRoof1.png\">"
   ]
  },
  {
   "cell_type": "markdown",
   "metadata": {},
   "source": [
    "<img src=\"hipRoof2.png\">"
   ]
  },
  {
   "cell_type": "markdown",
   "metadata": {},
   "source": [
    "## Hipped l-shaped"
   ]
  },
  {
   "cell_type": "markdown",
   "metadata": {},
   "source": [
    "<img src=\"hippedL-shaped1.png\">"
   ]
  },
  {
   "cell_type": "markdown",
   "metadata": {},
   "source": [
    "<img src=\"hippedL-shaped2.png\">"
   ]
  },
  {
   "cell_type": "markdown",
   "metadata": {},
   "source": []
  }
 ],
 "metadata": {
  "kernelspec": {
   "display_name": "Python 2",
   "language": "python",
   "name": "python2"
  },
  "language_info": {
   "codemirror_mode": {
    "name": "ipython",
    "version": 2
   },
   "file_extension": ".py",
   "mimetype": "text/x-python",
   "name": "python",
   "nbconvert_exporter": "python",
   "pygments_lexer": "ipython2",
   "version": "2.7.12"
  }
 },
 "nbformat": 4,
 "nbformat_minor": 1
}
