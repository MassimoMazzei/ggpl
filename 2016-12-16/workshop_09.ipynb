{
 "cells": [
  {
   "cell_type": "markdown",
   "metadata": {},
   "source": [
    "# Roof builder\n",
    "\n",
    "Descrizione di una funzione che crea un tetto le cui falde hanno tutte la stessa pendenza a partire da un insieme di punti che descrivono la base del tetto. \n",
    "La funzione calcola i punti interni del tetto grazie alla funzione atan2 e poi realizza il modello 3d."
   ]
  },
  {
   "cell_type": "markdown",
   "metadata": {},
   "source": [
    "## Variables\n",
    "- points: l'insieme dei punti base del tetto\n",
    "- higherPoints: l'insieme dei punti alti del tetto\n",
    "- alpha: l'angolo di pendenza delle falde del tetto\n",
    "- space: la distanza tra i punti esterni e i punti interni del tetto\n"
   ]
  },
  {
   "cell_type": "code",
   "execution_count": 1,
   "metadata": {
    "collapsed": false
   },
   "outputs": [
    {
     "name": "stdout",
     "output_type": "stream",
     "text": [
      "Evaluating fenvs.py..\n",
      "...fenvs.py imported in 0.009214 seconds\n"
     ]
    },
    {
     "name": "stderr",
     "output_type": "stream",
     "text": [
      "/usr/local/lib/python2.7/dist-packages/larlib-0.3.2-py2.7.egg/larlib/larstruct.py:233: FutureWarning: comparison to `None` will result in an elementwise object comparison in the future.\n",
      "  self.body = [item for item in data if item != None]\n"
     ]
    },
    {
     "data": {
      "text/plain": [
       "<pyplasm.xgepy.Hpc; proxy of <Swig Object of type 'std::shared_ptr< Hpc > *' at 0x7f7c49e3cdb0> >"
      ]
     },
     "execution_count": 1,
     "metadata": {},
     "output_type": "execute_result"
    }
   ],
   "source": [
    "from larlib import *\n",
    "from pyplasm import *\n",
    "\n",
    "alpha = 60*PI/180\n",
    "h = 2.0\n",
    "points = [[0,0],[0,5],[7,5],[7,10],[12,10],[12,0]]\n",
    "\n",
    "\"\"\"Funzione che crea un tetto a partire da un insieme di punti base del tetto\"\"\"\n",
    "def roofBuilder(points,alpha):\n",
    "    \n",
    "    #Calcolo della distanza tra i punti esterni e i punti interni\n",
    "    space = math.atan2(h,1/math.sin(alpha))\n",
    "\n",
    "    xMin = xMax = yMin = yMax = 0\n",
    "    for i in points:\n",
    "        if i[0] > xMax:\n",
    "            xMax = i[0]\n",
    "        elif i[0] < xMin:\n",
    "            xMin = i[0]\n",
    "        elif i[1] > yMax:\n",
    "            yMax = i[1]\n",
    "        elif i[1] < yMin:\n",
    "            yMin = i[1]\n",
    "    \n",
    "    #Calcolo dei punti alti del tetto\n",
    "    higherPoints = []\n",
    "    for i in range(0,len(points)):\n",
    "        x = y = 0\n",
    "        if points[i][0] == xMax:\n",
    "            x = points[i][0]-space\n",
    "        elif points[i][0] == xMin or (points[i-1][0] <= points[i][0] and  points[i+1][0] >= points[i][0]):\n",
    "            x = points[i][0]+space\n",
    "        \n",
    "        if points[i][1] == yMin:\n",
    "            y = points[i][1]+space\n",
    "        elif points[i][1] == yMax or (points[i-1][1] <= points[i][1] and points[i+1][1] >= points[i][0]):\n",
    "            y = points[i][1]-space\n",
    "        point = [x,y]\n",
    "        higherPoints.extend([point])\n",
    "    \n",
    "    #Crezione del soffitto del tetto\n",
    "    ceiling = STRUCT(AA(POLYLINE)([[higherPoints[0],higherPoints[1],higherPoints[2],higherPoints[3],higherPoints[4],higherPoints[5],higherPoints[0]]]))\n",
    "    ceiling = SOLIDIFY(ceiling)\n",
    "    ceiling = STRUCT([T(3)(h),ceiling])\n",
    "    \n",
    "    for p in points:\n",
    "        p.append(0)\n",
    "    for hp in higherPoints:\n",
    "        hp.append(h)\n",
    "    newPoints = points+higherPoints\n",
    "    \n",
    "    #Creazione delle celle del tetto\n",
    "    newCells = []\n",
    "    for j in range(1,len(points)+1):\n",
    "        if j != len(points):\n",
    "            newCells.extend([[j,j+1,j+len(points),j+len(points)+1]])\n",
    "        else:\n",
    "            newCells.extend([[j,1,j+len(points),j+1]])\n",
    "    \n",
    "    #Creazione del modello\n",
    "    roof = MKPOL([newPoints,newCells,None])\n",
    "    roof = STRUCT([roof,ceiling])\n",
    "    roof = OFFSET([.1,.1,.1])(roof)\n",
    "    roof = COLOR(RED)(roof)\n",
    "    \n",
    "    \n",
    "    VIEW(roof)\n",
    "    return roof\n",
    "\n",
    "\n",
    "roofBuilder(points,alpha)"
   ]
  },
  {
   "cell_type": "markdown",
   "metadata": {
    "collapsed": true
   },
   "source": [
    "# Results:\n",
    "<img src=\"result1.png\">\n",
    "<img src=\"result2.png\">\n",
    "<img src=\"result3.png\">"
   ]
  },
  {
   "cell_type": "code",
   "execution_count": null,
   "metadata": {
    "collapsed": true
   },
   "outputs": [],
   "source": []
  }
 ],
 "metadata": {
  "kernelspec": {
   "display_name": "Python 2",
   "language": "python",
   "name": "python2"
  },
  "language_info": {
   "codemirror_mode": {
    "name": "ipython",
    "version": 2
   },
   "file_extension": ".py",
   "mimetype": "text/x-python",
   "name": "python",
   "nbconvert_exporter": "python",
   "pygments_lexer": "ipython2",
   "version": "2.7.12"
  }
 },
 "nbformat": 4,
 "nbformat_minor": 1
}
