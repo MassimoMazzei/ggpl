{
 "cells": [
  {
   "cell_type": "markdown",
   "metadata": {},
   "source": [
    "# Model of suburban neighborhood"
   ]
  },
  {
   "cell_type": "markdown",
   "metadata": {},
   "source": [
    "## Image example:\n",
    "<img src=\"plan.jpg\">"
   ]
  },
  {
   "cell_type": "markdown",
   "metadata": {},
   "source": [
    "### The suburban neighborhood is create by the suburban_neighborhood() function\n",
    "#### Variables (Workshop_10 is required to create several instances of the house models:):\n",
    "- basement: basement on which the whole structure lies\n",
    "- landscape: hpc structure that represents the whole structure\n",
    "- house: house model from the previous workshop\n",
    "- tree: a hpc tree model present in the landscape\n",
    "- fountain: a hpc fountain model present in the north of the landscape\n",
    "- lake: a hpc lake model present in the top-right corner of the landscape\n",
    "- road: it represents all the roads of the landscape, created using Bezier curves"
   ]
  },
  {
   "cell_type": "code",
   "execution_count": 137,
   "metadata": {
    "collapsed": false
   },
   "outputs": [
    {
     "name": "stdout",
     "output_type": "stream",
     "text": [
      "<module 'sys' (built-in)>\n",
      "Child 3\n"
     ]
    }
   ],
   "source": [
    "from pyplasm import *\n",
    "from larlib import *\n",
    "from fpformat import fix\n",
    "import workshop_10 as w\n",
    "\n",
    "\"\"\"Create the color by the 3 parameters (RGB)\"\"\"\n",
    "def color(r,g,b):\n",
    "    return [float(fix(r/255.,6)),float(fix(g/255.,6)),float(fix(b/255.,6)),1.000000]\n",
    "\n",
    "\"\"\"Create the roads using Bezier curves and assemble them\"\"\"\n",
    "def createRoad():\n",
    "    print(sys)\n",
    "    grass = CUBOID([100,100,.1])\n",
    "    grass = TEXTURE(\"texture/grass.jpg\")(grass)\n",
    "    road = MAP(BEZIER(S1)([[13,2],[3,3],[5,10],[1,25],[12,40],[1,55],[13,70],[1,85],[14,100],[8,115],[15,130],[17,100],[20,80],[24,75],[27,60],[30,30],[32,80],[35,100],[37,110],[40,120],[42,110],[45,60],[47,40],[50,30],[52,80],[55,95],[57,110],[110,145],[120,140],[62,90],[100,75],[110,65],[70,50],[70,40],[72,30],[120,5],[140,5],[20,5],[13,2]]))(INTERVALS(1)(100))\n",
    "    road = OFFSET([1.5,1.5])(road)\n",
    "    road = STRUCT([grass,T(3)(.2),road])\n",
    "    \n",
    "    crossRoad1 = CUBOID([60,1.5])\n",
    "    crossRoad2 = CUBOID([1.5,78])\n",
    "    miniRoad = CUBOID([10,1.5])\n",
    "    \n",
    "    road = STRUCT([road,T([1,2,3])([7,60,.2]),crossRoad1])\n",
    "    road = STRUCT([road,T([1,2,3])([67,60,.2]),R([1,2])(PI/4),miniRoad])\n",
    "    road = STRUCT([road,T([1,2,3])([27,4,.2]),crossRoad2])\n",
    "    road = STRUCT([road,T([1,2,3])([54,5,.2]),crossRoad2])\n",
    "    road = STRUCT([road,T([1,2,3])([18,50,.2]), miniRoad])\n",
    "    road = STRUCT([road,T([1,2,3])([18,35,.2]), miniRoad])\n",
    "    road = STRUCT([road,T([1,2,3])([18,20,.2]), miniRoad])\n",
    "    road = STRUCT([road,T([1,2,3])([54,50,.2]), miniRoad])\n",
    "    road = STRUCT([road,T([1,2,3])([54,35,.2]), miniRoad])\n",
    "    road = STRUCT([road,T([1,2,3])([54,20,.2]), miniRoad])\n",
    "    \n",
    "    lake = createLake()\n",
    "    lake = STRUCT([S([1,2,3])([25,25,25]),lake])\n",
    "    road = STRUCT([road,T([1,2,3])([63,57,.2]),lake])\n",
    "    \n",
    "    return road\n",
    "\n",
    "\"\"\"Create a small lake in the top-right corner from a .lines file\"\"\"\n",
    "def createLake():\n",
    "    lakePlan = lines2lines(\"lake.lines\")\n",
    "    lakePlan = STRUCT(AA(POLYLINE)(lakePlan))\n",
    "    lakePlan = COLOR(BLACK)(lakePlan)\n",
    "    lake = SOLIDIFY(lakePlan)\n",
    "    lake = COLOR(color(153,203,255))(lake)\n",
    "    lake = STRUCT([lake,lakePlan])\n",
    "    return lake\n",
    "\n",
    "\"\"\"Create a single tree\"\"\"\n",
    "def createTree():\n",
    "    \n",
    "    trunk = CYLINDER([1,12])(200)\n",
    "    trunk = TEXTURE(\"texture/trunk.jpg\")(trunk)\n",
    "    foliage = SPHERE(4.5)([8,8])\n",
    "    foliage = TEXTURE(\"texture/foliage.jpg\")(foliage)\n",
    "    tree = STRUCT([trunk,T(3)(10),foliage])\n",
    "\n",
    "    return tree\n",
    "\n",
    "\"\"\"It creates several instances of the trees and assemble all the pieces (Ground, houses, trees, fountain)\"\"\"\n",
    "def createLandscape():\n",
    "    ground = createRoad()\n",
    "    tree = createTree()\n",
    "    ground = STRUCT([ground,T([1,2,3])([32,9,.2]),tree])\n",
    "    ground = STRUCT([ground,T([1,2,3])([32,21,.2]),tree])\n",
    "    ground = STRUCT([ground,T([1,2,3])([32,33,.2]),tree])\n",
    "    ground = STRUCT([ground,T([1,2,3])([32,45,.2]),tree])\n",
    "    ground = STRUCT([ground,T([1,2,3])([32,57,.2]),tree])\n",
    "    ground = STRUCT([ground,T([1,2,3])([48,9,.2]),tree])\n",
    "    ground = STRUCT([ground,T([1,2,3])([48,21,.2]),tree])\n",
    "    ground = STRUCT([ground,T([1,2,3])([48,33,.2]),tree])\n",
    "    ground = STRUCT([ground,T([1,2,3])([48,45,.2]),tree])\n",
    "    ground = STRUCT([ground,T([1,2,3])([48,57,.2]),tree])\n",
    "    ground = STRUCT([ground,T([1,2,3])([25,89,.2]),tree])\n",
    "    ground = STRUCT([ground,T([1,2,3])([20,95,.2]),tree])\n",
    "    ground = STRUCT([ground,T([1,2,3])([60,89,.2]),tree])\n",
    "    ground = STRUCT([ground,T([1,2,3])([65,95,.2]),tree])\n",
    "    \n",
    "    landscape = createHouses(ground)\n",
    "    fountain = createFountain()\n",
    "    landscape = STRUCT([landscape,T([1,2,3])([40,70,.2]),fountain])\n",
    "    \n",
    "    return landscape\n",
    "\n",
    "\"\"\"Create a fountain\"\"\"\n",
    "def createFountain():\n",
    "    waterColor = color(153,203,255)\n",
    "    fountainColor = color(245,245,245)\n",
    "    base = CYLINDER([3,0])(12)\n",
    "    base = COLOR(fountainColor)(base)\n",
    "    internal1 = OFFSET([.1,.1,.6])(SKEL_1(CYLINDER([2.5,0])(12)))\n",
    "    internal1 = COLOR(fountainColor)(internal1)\n",
    "    water1 = CYLINDER([2.4,0])(12)\n",
    "    water1 = COLOR(waterColor)(water1)\n",
    "    column1 = CYLINDER([.5,.7])(200)\n",
    "    column1 = COLOR(fountainColor)(column1)\n",
    "    internal2 = OFFSET([.1,.1,.3])(SKEL_1(CYLINDER([1.5,0])(12)))\n",
    "    internal2 = COLOR(fountainColor)(internal2)\n",
    "    water2 = CYLINDER([1.4,0])(12)\n",
    "    water2 = COLOR(waterColor)(water2)\n",
    "    column2 = CYLINDER([.25,.7])(200)\n",
    "    column2 = COLOR(fountainColor)(column2)\n",
    "    internal3 = OFFSET([.1,.1,.2])(SKEL_1(CYLINDER([.5,0])(12)))\n",
    "    internal3 = COLOR(fountainColor)(internal3)\n",
    "    water3 = CYLINDER([.4,0])(12)\n",
    "    water3 = COLOR(waterColor)(water3)\n",
    "    \n",
    "    \n",
    "    fountain = STRUCT([base,internal1,T(3)(.5),water1,column1,T(3)(.7),internal2,T(3)(.1),water2,column2,T(3)(.7),internal3,T(3)(.1),water3])\n",
    "    fountain = STRUCT([S([1,2,3])([2,2,2]),fountain])\n",
    "    return fountain\n",
    "\n",
    "\"\"\"Create all the houses and put them on the ground\"\"\"\n",
    "def createHouses(ground):\n",
    "    house = w.house()\n",
    "    \n",
    "    #ground = createRoad()\n",
    "    ground = STRUCT([ground,T([1,2,3])([18.5,13,.2]),R([1,2])(PI/2),S([1,2,3])([.4,.3,.4]),house])\n",
    "    ground = STRUCT([ground,T([1,2,3])([18.5,28,.2]),R([1,2])(PI/2),S([1,2,3])([.4,.3,.4]),house])\n",
    "    ground = STRUCT([ground,T([1,2,3])([18.5,43,.2]),R([1,2])(PI/2),S([1,2,3])([.4,.3,.4]),house])\n",
    "    ground = STRUCT([ground,T([1,2,3])([64,28,.2]),R([1,2])(-PI/2),S([1,2,3])([.4,.3,.4]),house])\n",
    "    ground = STRUCT([ground,T([1,2,3])([64,43,.2]),R([1,2])(-PI/2),S([1,2,3])([.4,.3,.4]),house])\n",
    "    ground = STRUCT([ground,T([1,2,3])([64,58,.2]),R([1,2])(-PI/2),S([1,2,3])([.4,.3,.4]),house])\n",
    "    \n",
    "    return ground\n",
    "\n",
    "\"\"\"Create the whole structure with a basement\"\"\"\n",
    "def suburban_neighborhood():\n",
    "    \n",
    "    basement = CUBOID([100,100,10])\n",
    "    basement = COLOR(color(150,75,0))(basement)\n",
    "    neighbohood = createLandscape()\n",
    "    \n",
    "    basement = STRUCT([basement,T(3)(10.1),neighbohood])\n",
    "    VIEW(basement)\n",
    "\n",
    "suburban_neighborhood()"
   ]
  },
  {
   "cell_type": "markdown",
   "metadata": {
    "collapsed": true
   },
   "source": [
    "# Image results:\n",
    "<img src=\"img/suburbanNeighborhood1.png\">\n",
    "<img src=\"img/suburbanNeighborhood2.png\">\n",
    "<img src=\"img/suburbanNeighborhood3.png\">\n",
    "<img src=\"img/suburbanNeighborhood4.png\">\n",
    "<img src=\"img/suburbanNeighborhood5.png\">\n",
    "<img src=\"img/suburbanNeighborhood6.png\">\n",
    "<img src=\"img/suburbanNeighborhood7.png\">"
   ]
  },
  {
   "cell_type": "code",
   "execution_count": null,
   "metadata": {
    "collapsed": true
   },
   "outputs": [],
   "source": []
  }
 ],
 "metadata": {
  "kernelspec": {
   "display_name": "Python 2",
   "language": "python",
   "name": "python2"
  },
  "language_info": {
   "codemirror_mode": {
    "name": "ipython",
    "version": 2
   },
   "file_extension": ".py",
   "mimetype": "text/x-python",
   "name": "python",
   "nbconvert_exporter": "python",
   "pygments_lexer": "ipython2",
   "version": "2.7.12"
  }
 },
 "nbformat": 4,
 "nbformat_minor": 1
}
