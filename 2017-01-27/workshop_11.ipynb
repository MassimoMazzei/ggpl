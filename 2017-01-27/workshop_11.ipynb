{
 "cells": [
  {
   "cell_type": "code",
   "execution_count": 23,
   "metadata": {
    "collapsed": false
   },
   "outputs": [],
   "source": [
    "from pyplasm import *\n",
    "\n",
    "def suburban_neighborhood():\n",
    "    basement = CUBOID([15,15,1])\n",
    "    COLOR(BROWN)(basement)\n",
    "    curve = MAP(BEZIER(S1)([[0,0],[1,0],[1,1],[2,1],[3,1],[3,0]]))(INTERVALS(1)(32))\n",
    "    curve = OFFSET([.4,.4])(curve)\n",
    "    base = STRUCT([basement,T(3)(1),curve])\n",
    "    VIEW(base)\n",
    "    \n",
    "suburban_neighborhood()"
   ]
  },
  {
   "cell_type": "code",
   "execution_count": null,
   "metadata": {
    "collapsed": true
   },
   "outputs": [],
   "source": []
  }
 ],
 "metadata": {
  "kernelspec": {
   "display_name": "Python 2",
   "language": "python",
   "name": "python2"
  },
  "language_info": {
   "codemirror_mode": {
    "name": "ipython",
    "version": 2
   },
   "file_extension": ".py",
   "mimetype": "text/x-python",
   "name": "python",
   "nbconvert_exporter": "python",
   "pygments_lexer": "ipython2",
   "version": "2.7.12"
  }
 },
 "nbformat": 4,
 "nbformat_minor": 1
}
